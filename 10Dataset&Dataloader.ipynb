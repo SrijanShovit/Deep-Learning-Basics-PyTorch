{
 "cells": [
  {
   "cell_type": "code",
   "execution_count": 1,
   "metadata": {},
   "outputs": [
    {
     "data": {
      "text/plain": [
       "'\\nepoch = 1 forward and backward pass of all training samples\\n\\nbatch_size = no. of training samples in one forward and backward pass\\n\\nno. of iterations = no. of passes,each pass using [batch_size] no. of samples\\n\\ne.g. 100 samples,batch_size =20 --> 100/20 = 5 iterations for 1 epoch\\n\\n'"
      ]
     },
     "execution_count": 1,
     "metadata": {},
     "output_type": "execute_result"
    }
   ],
   "source": [
    "'''\n",
    "epoch = 1 forward and backward pass of all training samples\n",
    "\n",
    "batch_size = no. of training samples in one forward and backward pass\n",
    "\n",
    "no. of iterations = no. of passes,each pass using [batch_size] no. of samples\n",
    "\n",
    "e.g. 100 samples,batch_size =20 --> 100/20 = 5 iterations for 1 epoch\n",
    "\n",
    "'''"
   ]
  },
  {
   "cell_type": "code",
   "execution_count": 2,
   "metadata": {},
   "outputs": [],
   "source": [
    "import torch\n",
    "import torchvision\n",
    "import numpy as np\n",
    "import math\n",
    "from torch.utils.data import Dataset,DataLoader"
   ]
  },
  {
   "cell_type": "code",
   "execution_count": 7,
   "metadata": {},
   "outputs": [],
   "source": [
    "class WineDataset(Dataset):\n",
    "    \n",
    "    def __init__(self):\n",
    "        #data loading\n",
    "        xy = np.loadtxt('./wine.csv',delimiter=\",\",dtype=np.float32,skiprows=1) #skip 1st row which is heading\n",
    "        self.x = torch.from_numpy(xy[:,1:]) \n",
    "        self.y = torch.from_numpy(xy[:,[0]])  #n_samples  = 1\n",
    "        self.n_samples = xy.shape[0]\n",
    "        \n",
    "    def __getitem__(self,index):\n",
    "        #dataset[0]\n",
    "        return self.x[index],self.y[index]\n",
    "    \n",
    "    def __len__(self):\n",
    "        #len(dataset)\n",
    "        return self.n_samples"
   ]
  },
  {
   "cell_type": "code",
   "execution_count": 8,
   "metadata": {},
   "outputs": [
    {
     "name": "stdout",
     "output_type": "stream",
     "text": [
      "tensor([1.4230e+01, 1.7100e+00, 2.4300e+00, 1.5600e+01, 1.2700e+02, 2.8000e+00,\n",
      "        3.0600e+00, 2.8000e-01, 2.2900e+00, 5.6400e+00, 1.0400e+00, 3.9200e+00,\n",
      "        1.0650e+03]) tensor([1.])\n"
     ]
    }
   ],
   "source": [
    "dataset = WineDataset()\n",
    "\n",
    "first_data = dataset[0]\n",
    "features,labels = first_data\n",
    "print(features,labels)"
   ]
  },
  {
   "cell_type": "markdown",
   "metadata": {},
   "source": [
    "### Using dataloader"
   ]
  },
  {
   "cell_type": "code",
   "execution_count": 13,
   "metadata": {},
   "outputs": [],
   "source": [
    "dataloader = DataLoader(dataset = dataset,batch_size=1,shuffle=True,num_workers=1)\n",
    "\n",
    "dataiter = iter(dataloader)\n",
    "data = []\n",
    "\n",
    "for step in range(len(dataloader)):\n",
    "  while(True):\n",
    "     try:\n",
    "        data = next(dataloader_iter)\n",
    "     except:\n",
    "        \n",
    "        dataloader_iter = iter(dataloader)\n",
    "features,labels = data\n",
    "print(features,labels)"
   ]
  },
  {
   "cell_type": "code",
   "execution_count": null,
   "metadata": {},
   "outputs": [],
   "source": []
  }
 ],
 "metadata": {
  "interpreter": {
   "hash": "63fd5069d213b44bf678585dea6b12cceca9941eaf7f819626cde1f2670de90d"
  },
  "kernelspec": {
   "display_name": "Python 3.9.6 64-bit",
   "language": "python",
   "name": "python3"
  },
  "language_info": {
   "codemirror_mode": {
    "name": "ipython",
    "version": 3
   },
   "file_extension": ".py",
   "mimetype": "text/x-python",
   "name": "python",
   "nbconvert_exporter": "python",
   "pygments_lexer": "ipython3",
   "version": "3.9.6"
  },
  "orig_nbformat": 4
 },
 "nbformat": 4,
 "nbformat_minor": 2
}

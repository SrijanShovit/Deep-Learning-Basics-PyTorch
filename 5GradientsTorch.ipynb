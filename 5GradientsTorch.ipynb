{
 "cells": [
  {
   "cell_type": "code",
   "execution_count": 1,
   "metadata": {},
   "outputs": [],
   "source": [
    "import torch"
   ]
  },
  {
   "cell_type": "code",
   "execution_count": 2,
   "metadata": {},
   "outputs": [],
   "source": [
    "# f = w*x + b\n",
    "\n",
    "# let w =2,b = 0\n"
   ]
  },
  {
   "cell_type": "code",
   "execution_count": 3,
   "metadata": {},
   "outputs": [],
   "source": [
    "X = torch.tensor([1,2,3,4],dtype=torch.float32)\n",
    "Y = torch.tensor([2,4,6,8],dtype=torch.float32)\n",
    "\n",
    "w = torch.tensor(0.0,dtype=torch.float32,requires_grad=True)"
   ]
  },
  {
   "cell_type": "code",
   "execution_count": 4,
   "metadata": {},
   "outputs": [],
   "source": [
    "# model prediction\n",
    "\n",
    "def forward(x):\n",
    "    return w*x\n",
    "\n",
    "\n",
    "\n",
    "#loss = MSE\n",
    "\n",
    "def loss(y,y_predicted):\n",
    "    return ((y_predicted-y)**2).mean()"
   ]
  },
  {
   "cell_type": "code",
   "execution_count": 6,
   "metadata": {},
   "outputs": [
    {
     "name": "stdout",
     "output_type": "stream",
     "text": [
      "Prediction before training: f(5) = 0.000\n"
     ]
    }
   ],
   "source": [
    "print(f'Prediction before training: f(5) = {forward(5):.3f}')"
   ]
  },
  {
   "cell_type": "code",
   "execution_count": 13,
   "metadata": {},
   "outputs": [],
   "source": [
    "#Training\n",
    "\n",
    "learning_rate = 0.001\n",
    "n_iters = 100"
   ]
  },
  {
   "cell_type": "code",
   "execution_count": 14,
   "metadata": {},
   "outputs": [
    {
     "name": "stdout",
     "output_type": "stream",
     "text": [
      "epoch1 : weight = 1.937 , loss = 0.03091661\n",
      "epoch11 : weight = 1.946 , loss = 0.02285148\n",
      "epoch21 : weight = 1.953 , loss = 0.01689039\n",
      "epoch31 : weight = 1.960 , loss = 0.01248419\n",
      "epoch41 : weight = 1.965 , loss = 0.00922745\n",
      "epoch51 : weight = 1.970 , loss = 0.00682032\n",
      "epoch61 : weight = 1.974 , loss = 0.00504114\n",
      "epoch71 : weight = 1.978 , loss = 0.00372609\n",
      "epoch81 : weight = 1.981 , loss = 0.00275409\n",
      "epoch91 : weight = 1.984 , loss = 0.00203566\n",
      "Prediction after training: f(5) = 9.929\n"
     ]
    }
   ],
   "source": [
    "for epoch in range(n_iters):\n",
    "    #prediction = forward pass\n",
    "    y_pred = forward(X)\n",
    "    \n",
    "    #loss \n",
    "    l = loss(Y,y_pred)\n",
    "    \n",
    "    #gradients = backward()\n",
    "    l.backward() #dl/dw\n",
    "    \n",
    "    \n",
    "    #update weights\n",
    "    with torch.no_grad():\n",
    "        w -= learning_rate* (w.grad)\n",
    "        \n",
    "    #zero gradient\n",
    "    w.grad.zero_()\n",
    "    \n",
    "    if (epoch %10 == 0):\n",
    "        print(f'epoch{epoch+1} : weight = {w:.3f} , loss = {l:.8f}')\n",
    "    \n",
    "print(f'Prediction after training: f(5) = {forward(5):.3f}')"
   ]
  },
  {
   "cell_type": "code",
   "execution_count": null,
   "metadata": {},
   "outputs": [],
   "source": []
  }
 ],
 "metadata": {
  "interpreter": {
   "hash": "63fd5069d213b44bf678585dea6b12cceca9941eaf7f819626cde1f2670de90d"
  },
  "kernelspec": {
   "display_name": "Python 3.9.6 64-bit",
   "language": "python",
   "name": "python3"
  },
  "language_info": {
   "codemirror_mode": {
    "name": "ipython",
    "version": 3
   },
   "file_extension": ".py",
   "mimetype": "text/x-python",
   "name": "python",
   "nbconvert_exporter": "python",
   "pygments_lexer": "ipython3",
   "version": "3.9.6"
  },
  "orig_nbformat": 4
 },
 "nbformat": 4,
 "nbformat_minor": 2
}

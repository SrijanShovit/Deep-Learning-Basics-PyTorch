{
 "cells": [
  {
   "cell_type": "code",
   "execution_count": 1,
   "metadata": {},
   "outputs": [],
   "source": [
    "import numpy as np"
   ]
  },
  {
   "cell_type": "code",
   "execution_count": 2,
   "metadata": {},
   "outputs": [],
   "source": [
    "# f = w*x + b\n",
    "\n",
    "# let w =2,b = 0\n"
   ]
  },
  {
   "cell_type": "code",
   "execution_count": 3,
   "metadata": {},
   "outputs": [],
   "source": [
    "X = np.array([1,2,3,4],dtype=np.float32)\n",
    "Y = np.array([2,4,6,8],dtype=np.float32)"
   ]
  },
  {
   "cell_type": "code",
   "execution_count": 15,
   "metadata": {},
   "outputs": [],
   "source": [
    "w = 0"
   ]
  },
  {
   "cell_type": "code",
   "execution_count": 16,
   "metadata": {},
   "outputs": [],
   "source": [
    "# model prediction\n",
    "\n",
    "def forward(x):\n",
    "    return w*x"
   ]
  },
  {
   "cell_type": "code",
   "execution_count": 17,
   "metadata": {},
   "outputs": [],
   "source": [
    "#loss = MSE\n",
    "\n",
    "def loss(y,y_predicted):\n",
    "    return ((y_predicted-y)**2).mean()"
   ]
  },
  {
   "cell_type": "code",
   "execution_count": 18,
   "metadata": {},
   "outputs": [],
   "source": [
    "# gradient\n",
    "# MSE = 1/N * (w*x - y)**2\n",
    "# dJ/dw = 1/N * 2x * (w*x - y)\n",
    "\n",
    "def gradient(x,y,y_predicted):\n",
    "    return np.dot(2*x,y_predicted-y).mean()"
   ]
  },
  {
   "cell_type": "code",
   "execution_count": 19,
   "metadata": {},
   "outputs": [
    {
     "name": "stdout",
     "output_type": "stream",
     "text": [
      "Prediction before training: f(5) = 0.000\n"
     ]
    }
   ],
   "source": [
    "print(f'Prediction before training: f(5) = {forward(5):.3f}')"
   ]
  },
  {
   "cell_type": "code",
   "execution_count": 20,
   "metadata": {},
   "outputs": [],
   "source": [
    "#Training\n",
    "\n",
    "learning_rate = 0.01\n",
    "n_iters = 10"
   ]
  },
  {
   "cell_type": "code",
   "execution_count": 21,
   "metadata": {},
   "outputs": [
    {
     "name": "stdout",
     "output_type": "stream",
     "text": [
      "epoch1 : weight = 1.200 , loss = 30.00000000\n",
      "epoch2 : weight = 1.680 , loss = 4.79999924\n",
      "epoch3 : weight = 1.872 , loss = 0.76800019\n",
      "epoch4 : weight = 1.949 , loss = 0.12288000\n",
      "epoch5 : weight = 1.980 , loss = 0.01966083\n",
      "epoch6 : weight = 1.992 , loss = 0.00314574\n",
      "epoch7 : weight = 1.997 , loss = 0.00050331\n",
      "epoch8 : weight = 1.999 , loss = 0.00008053\n",
      "epoch9 : weight = 1.999 , loss = 0.00001288\n",
      "epoch10 : weight = 2.000 , loss = 0.00000206\n",
      "Prediction after training: f(5) = 9.999\n"
     ]
    }
   ],
   "source": [
    "for epoch in range(n_iters):\n",
    "    #prediction = forward pass\n",
    "    y_pred = forward(X)\n",
    "    \n",
    "    #loss \n",
    "    l = loss(Y,y_pred)\n",
    "    \n",
    "    #gradients \n",
    "    dw = gradient(X,Y,y_pred)\n",
    "    \n",
    "    #update weights\n",
    "    w -= learning_rate*dw\n",
    "    \n",
    "    print(f'epoch{epoch+1} : weight = {w:.3f} , loss = {l:.8f}')\n",
    "    \n",
    "print(f'Prediction after training: f(5) = {forward(5):.3f}')"
   ]
  }
 ],
 "metadata": {
  "interpreter": {
   "hash": "63fd5069d213b44bf678585dea6b12cceca9941eaf7f819626cde1f2670de90d"
  },
  "kernelspec": {
   "display_name": "Python 3.9.6 64-bit",
   "language": "python",
   "name": "python3"
  },
  "language_info": {
   "codemirror_mode": {
    "name": "ipython",
    "version": 3
   },
   "file_extension": ".py",
   "mimetype": "text/x-python",
   "name": "python",
   "nbconvert_exporter": "python",
   "pygments_lexer": "ipython3",
   "version": "3.9.6"
  },
  "orig_nbformat": 4
 },
 "nbformat": 4,
 "nbformat_minor": 2
}

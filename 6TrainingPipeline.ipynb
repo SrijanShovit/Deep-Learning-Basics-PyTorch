{
 "cells": [
  {
   "cell_type": "code",
   "execution_count": 1,
   "metadata": {},
   "outputs": [],
   "source": [
    "# 1) Design model (input,output_size,forward pass)\n",
    "# 2) Construct loss and optimiser\n",
    "# 3) Training loop\n",
    "    # - forward pass: compute prediction\n",
    "    # - backward pass : gradients\n",
    "    # - update weights"
   ]
  },
  {
   "cell_type": "code",
   "execution_count": 3,
   "metadata": {},
   "outputs": [],
   "source": [
    "import torch\n",
    "import torch.nn as nn"
   ]
  },
  {
   "cell_type": "code",
   "execution_count": 4,
   "metadata": {},
   "outputs": [],
   "source": [
    "# f = w*x + b\n",
    "\n",
    "# let w =2,b = 0\n",
    "\n",
    "X = torch.tensor([1,2,3,4],dtype=torch.float32)\n",
    "Y = torch.tensor([2,4,6,8],dtype=torch.float32)\n",
    "\n",
    "w = torch.tensor(0.0,dtype=torch.float32,requires_grad=True)"
   ]
  },
  {
   "cell_type": "code",
   "execution_count": 5,
   "metadata": {},
   "outputs": [],
   "source": [
    "# model prediction\n",
    "\n",
    "def forward(x):\n",
    "    return w*x"
   ]
  },
  {
   "cell_type": "code",
   "execution_count": 6,
   "metadata": {},
   "outputs": [
    {
     "name": "stdout",
     "output_type": "stream",
     "text": [
      "Prediction before training: f(5) = 0.000\n"
     ]
    }
   ],
   "source": [
    "print(f'Prediction before training: f(5) = {forward(5):.3f}')"
   ]
  },
  {
   "cell_type": "code",
   "execution_count": 10,
   "metadata": {},
   "outputs": [],
   "source": [
    "#Training\n",
    "\n",
    "learning_rate = 0.01\n",
    "n_iters = 100"
   ]
  },
  {
   "cell_type": "code",
   "execution_count": 11,
   "metadata": {},
   "outputs": [],
   "source": [
    "loss = nn.MSELoss()\n",
    "\n",
    "#SGD --> Stochastic Gradient Descent\n",
    "optimiser = torch.optim.SGD([w],lr = learning_rate)"
   ]
  },
  {
   "cell_type": "code",
   "execution_count": 12,
   "metadata": {},
   "outputs": [
    {
     "name": "stdout",
     "output_type": "stream",
     "text": [
      "epoch1 : weight = 1.625 , loss = 1.46004927\n",
      "epoch11 : weight = 1.926 , loss = 0.05659094\n",
      "epoch21 : weight = 1.985 , loss = 0.00219344\n",
      "epoch31 : weight = 1.997 , loss = 0.00008501\n",
      "epoch41 : weight = 1.999 , loss = 0.00000329\n",
      "epoch51 : weight = 2.000 , loss = 0.00000013\n",
      "epoch61 : weight = 2.000 , loss = 0.00000000\n",
      "epoch71 : weight = 2.000 , loss = 0.00000000\n",
      "epoch81 : weight = 2.000 , loss = 0.00000000\n",
      "epoch91 : weight = 2.000 , loss = 0.00000000\n",
      "Prediction after training: f(5) = 10.000\n"
     ]
    }
   ],
   "source": [
    "for epoch in range(n_iters):\n",
    "    #prediction = forward pass\n",
    "    y_pred = forward(X)\n",
    "    \n",
    "    #loss \n",
    "    l = loss(Y,y_pred)\n",
    "    \n",
    "    #gradients = backward()\n",
    "    l.backward() #dl/dw\n",
    "    \n",
    "    \n",
    "    #update weights\n",
    "    optimiser.step()\n",
    "        \n",
    "    #zero gradient\n",
    "    optimiser.zero_grad()\n",
    "    \n",
    "    if (epoch %10 == 0):\n",
    "        print(f'epoch{epoch+1} : weight = {w:.3f} , loss = {l:.8f}')\n",
    "    \n",
    "print(f'Prediction after training: f(5) = {forward(5):.3f}')"
   ]
  },
  {
   "cell_type": "code",
   "execution_count": null,
   "metadata": {},
   "outputs": [],
   "source": []
  }
 ],
 "metadata": {
  "interpreter": {
   "hash": "63fd5069d213b44bf678585dea6b12cceca9941eaf7f819626cde1f2670de90d"
  },
  "kernelspec": {
   "display_name": "Python 3.9.6 64-bit",
   "language": "python",
   "name": "python3"
  },
  "language_info": {
   "codemirror_mode": {
    "name": "ipython",
    "version": 3
   },
   "file_extension": ".py",
   "mimetype": "text/x-python",
   "name": "python",
   "nbconvert_exporter": "python",
   "pygments_lexer": "ipython3",
   "version": "3.9.6"
  },
  "orig_nbformat": 4
 },
 "nbformat": 4,
 "nbformat_minor": 2
}
